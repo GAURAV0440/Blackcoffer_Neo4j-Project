{
 "cells": [
  {
   "cell_type": "markdown",
   "id": "a462af9c-0de7-473f-81c0-1bbb8cc5414d",
   "metadata": {},
   "source": [
    "# Neo4j Graph Database with Cypher Queries using Python\n",
    "\n",
    "This project demonstrates how to build and query a graph database using Neo4j and Cypher with Python integration. It covers persons, movies, actors, directors, and genres—plus exporting query results to Excel."
   ]
  },
  {
   "cell_type": "code",
   "execution_count": 77,
   "id": "56579578-4bd4-4cca-a3ad-5cbd3ffe9827",
   "metadata": {},
   "outputs": [
    {
     "name": "stdout",
     "output_type": "stream",
     "text": [
      "Requirement already satisfied: neo4j in c:\\users\\pc\\anaconda3\\lib\\site-packages (5.28.1)\n",
      "Requirement already satisfied: pandas in c:\\users\\pc\\anaconda3\\lib\\site-packages (2.2.2)\n",
      "Requirement already satisfied: matplotlib in c:\\users\\pc\\anaconda3\\lib\\site-packages (3.9.2)\n",
      "Requirement already satisfied: pytz in c:\\users\\pc\\anaconda3\\lib\\site-packages (from neo4j) (2024.1)\n",
      "Requirement already satisfied: numpy>=1.26.0 in c:\\users\\pc\\anaconda3\\lib\\site-packages (from pandas) (1.26.4)\n",
      "Requirement already satisfied: python-dateutil>=2.8.2 in c:\\users\\pc\\anaconda3\\lib\\site-packages (from pandas) (2.9.0.post0)\n",
      "Requirement already satisfied: tzdata>=2022.7 in c:\\users\\pc\\anaconda3\\lib\\site-packages (from pandas) (2023.3)\n",
      "Requirement already satisfied: contourpy>=1.0.1 in c:\\users\\pc\\anaconda3\\lib\\site-packages (from matplotlib) (1.2.0)\n",
      "Requirement already satisfied: cycler>=0.10 in c:\\users\\pc\\anaconda3\\lib\\site-packages (from matplotlib) (0.11.0)\n",
      "Requirement already satisfied: fonttools>=4.22.0 in c:\\users\\pc\\anaconda3\\lib\\site-packages (from matplotlib) (4.51.0)\n",
      "Requirement already satisfied: kiwisolver>=1.3.1 in c:\\users\\pc\\anaconda3\\lib\\site-packages (from matplotlib) (1.4.4)\n",
      "Requirement already satisfied: packaging>=20.0 in c:\\users\\pc\\anaconda3\\lib\\site-packages (from matplotlib) (24.1)\n",
      "Requirement already satisfied: pillow>=8 in c:\\users\\pc\\anaconda3\\lib\\site-packages (from matplotlib) (10.4.0)\n",
      "Requirement already satisfied: pyparsing>=2.3.1 in c:\\users\\pc\\anaconda3\\lib\\site-packages (from matplotlib) (3.1.2)\n",
      "Requirement already satisfied: six>=1.5 in c:\\users\\pc\\anaconda3\\lib\\site-packages (from python-dateutil>=2.8.2->pandas) (1.16.0)\n"
     ]
    }
   ],
   "source": [
    "!pip install neo4j pandas matplotlib"
   ]
  },
  {
   "cell_type": "markdown",
   "id": "6ca4eff0-731c-4455-aad2-c48d59468cdc",
   "metadata": {},
   "source": [
    "## Step 1: Connect to the Neo4j Database\n",
    "Using the Neo4j Bolt driver to connect via Python."
   ]
  },
  {
   "cell_type": "code",
   "execution_count": 79,
   "id": "de36951c-bc70-4f5b-9f4b-6bfe1bce2f57",
   "metadata": {},
   "outputs": [
    {
     "name": "stdout",
     "output_type": "stream",
     "text": [
      "Neo4j Connected ✅\n"
     ]
    }
   ],
   "source": [
    "from neo4j import GraphDatabase\n",
    "\n",
    "# Neo4j credentials\n",
    "uri = \"bolt://localhost:7687\"\n",
    "username = \"neo4j\"\n",
    "password = \"qwertyuiop\"  # change if you used something else\n",
    "\n",
    "# Connect to DB\n",
    "driver = GraphDatabase.driver(uri, auth=(username, password))\n",
    "\n",
    "# Test query\n",
    "def test_connection(tx):\n",
    "    return tx.run(\"RETURN 'Neo4j Connected ✅' AS message\").single()[\"message\"]\n",
    "\n",
    "with driver.session() as session:\n",
    "    msg = session.execute_read(test_connection)\n",
    "    print(msg)\n"
   ]
  },
  {
   "cell_type": "markdown",
   "id": "4b905b87-7fdb-4373-9912-c3131b1c1e21",
   "metadata": {},
   "source": [
    "## Step 2: Insert Sample Person Nodes & Relationships\n",
    "Creating a basic \"Friends With\" graph for demonstration."
   ]
  },
  {
   "cell_type": "code",
   "execution_count": 134,
   "id": "13d978f2-cf92-4f29-8e5b-9fbc037647bc",
   "metadata": {},
   "outputs": [
    {
     "name": "stdout",
     "output_type": "stream",
     "text": [
      "Person graph created\n"
     ]
    }
   ],
   "source": [
    "def create_data(tx):\n",
    "    tx.run(\"MATCH (n) DETACH DELETE n\")  # Clear all nodes + relationships\n",
    "    tx.run(\"\"\"\n",
    "        CREATE (a:Person {name: 'Gaurav', age: 25})\n",
    "        CREATE (b:Person {name: 'Akash', age: 30})\n",
    "        CREATE (c:Person {name: 'Charlie', age: 28})\n",
    "        CREATE (a)-[:FRIENDS_WITH]->(b)\n",
    "        CREATE (b)-[:FRIENDS_WITH]->(c)\n",
    "    \"\"\")\n",
    "\n",
    "with driver.session() as session:\n",
    "    session.execute_write(create_data)\n",
    "\n",
    "print(\"Person graph created\")"
   ]
  },
  {
   "cell_type": "markdown",
   "id": "207920a3-aa61-4d86-b4de-9c06fff90a7e",
   "metadata": {},
   "source": [
    "###  View Person–Friend Relationships\n",
    "Cypher query to display all FRIENDS_WITH relationships."
   ]
  },
  {
   "cell_type": "code",
   "execution_count": 119,
   "id": "878e70f9-6a20-4297-83ff-e56b5f56678a",
   "metadata": {},
   "outputs": [
    {
     "name": "stdout",
     "output_type": "stream",
     "text": [
      "   Person   Friend\n",
      "0  Gaurav    Akash\n",
      "1   Akash  Charlie\n"
     ]
    },
    {
     "name": "stderr",
     "output_type": "stream",
     "text": [
      "C:\\Users\\PC\\AppData\\Local\\Temp\\ipykernel_24692\\3904941150.py:9: DeprecationWarning: read_transaction has been renamed to execute_read\n",
      "  data = session.read_transaction(fetch_data)\n"
     ]
    }
   ],
   "source": [
    "def fetch_data(tx):\n",
    "    result = tx.run(\"\"\"\n",
    "        MATCH (p:Person)-[r:FRIENDS_WITH]->(f:Person)\n",
    "        RETURN p.name AS Person, f.name AS Friend\n",
    "    \"\"\")\n",
    "    return result.data()\n",
    "\n",
    "with driver.session() as session:\n",
    "    data = session.read_transaction(fetch_data)\n",
    "import pandas as pd\n",
    "df = pd.DataFrame(data)\n",
    "print(df)\n"
   ]
  },
  {
   "cell_type": "markdown",
   "id": "96dfc445-5bbd-4251-879a-cdf831e0204d",
   "metadata": {},
   "source": [
    "##  Step 3: Insert Movie Nodes Dynamically\n",
    "Adding movies with title, year, and rating using Python lists."
   ]
  },
  {
   "cell_type": "code",
   "execution_count": 138,
   "id": "29665da2-0f3f-4d1d-bd16-8a6de1389be5",
   "metadata": {},
   "outputs": [
    {
     "name": "stdout",
     "output_type": "stream",
     "text": [
      " Movies inserted successfully.\n"
     ]
    }
   ],
   "source": [
    "# Inserting Movies\n",
    "def insert_movie_data(tx):\n",
    "    movies = [\n",
    "        {\"title\": \"Dilwale\", \"year\": 2015, \"rating\": 6.0},\n",
    "        {\"title\": \"3 Idiots\", \"year\": 2009, \"rating\": 8.4},\n",
    "        {\"title\": \"Chak De India\", \"year\": 2007, \"rating\": 8.2},\n",
    "        {\"title\": \"PK\", \"year\": 2014, \"rating\": 8.1},\n",
    "        {\"title\": \"Dangal\", \"year\": 2016, \"rating\": 8.3},\n",
    "        {\"title\": \"Don\", \"year\": 2006, \"rating\": 7.2},\n",
    "        {\"title\": \"Swades\", \"year\": 2004, \"rating\": 8.2},\n",
    "        {\"title\": \"Taare Zameen Par\", \"year\": 2007, \"rating\": 8.4},\n",
    "        {\"title\": \"My Name Is Khan\", \"year\": 2010, \"rating\": 8.0},\n",
    "        {\"title\": \"Lagaan\", \"year\": 2001, \"rating\": 8.1}\n",
    "    ]\n",
    "    for movie in movies:\n",
    "        tx.run(\"\"\"\n",
    "            MERGE (:Movie {title: $title, year: $year, rating: $rating})\n",
    "        \"\"\", title=movie[\"title\"], year=movie[\"year\"], rating=movie[\"rating\"])\n",
    "\n",
    "with driver.session() as session:\n",
    "    session.execute_write(insert_movie_data)\n",
    "\n",
    "print(\" Movies inserted successfully.\")"
   ]
  },
  {
   "cell_type": "markdown",
   "id": "63abf413-836a-4e49-bfa9-41387774f677",
   "metadata": {},
   "source": [
    "## Step 4: Link Actors & Directors to Movies\n",
    "Creating ACTED_IN and DIRECTED relationships dynamically."
   ]
  },
  {
   "cell_type": "code",
   "execution_count": 140,
   "id": "64aef159-bf36-4edd-9131-d5b6b6dcc7f2",
   "metadata": {},
   "outputs": [
    {
     "name": "stdout",
     "output_type": "stream",
     "text": [
      " Actors & Directors linked to movies successfully.\n"
     ]
    }
   ],
   "source": [
    "def insert_actors_directors(tx):\n",
    "    data = [\n",
    "        {\"movie\": \"Dilwale\", \"actor\": \"Shah Rukh Khan\", \"actor_age\": 58, \"director\": \"Rohit Shetty\", \"director_age\": 50},\n",
    "        {\"movie\": \"3 Idiots\", \"actor\": \"Aamir Khan\", \"actor_age\": 59, \"director\": \"Rajkumar Hirani\", \"director_age\": 61},\n",
    "        {\"movie\": \"Chak De India\", \"actor\": \"Shah Rukh Khan\", \"actor_age\": 58, \"director\": \"Shimit Amin\", \"director_age\": 50},\n",
    "        {\"movie\": \"PK\", \"actor\": \"Aamir Khan\", \"actor_age\": 59, \"director\": \"Rajkumar Hirani\", \"director_age\": 61},\n",
    "        {\"movie\": \"Dangal\", \"actor\": \"Aamir Khan\", \"actor_age\": 59, \"director\": \"Nitesh Tiwari\", \"director_age\": 49},\n",
    "        {\"movie\": \"Don\", \"actor\": \"Shah Rukh Khan\", \"actor_age\": 58, \"director\": \"Farhan Akhtar\", \"director_age\": 50},\n",
    "        {\"movie\": \"Swades\", \"actor\": \"Shah Rukh Khan\", \"actor_age\": 58, \"director\": \"Ashutosh Gowariker\", \"director_age\": 60},\n",
    "        {\"movie\": \"Taare Zameen Par\", \"actor\": \"Darsheel Safary\", \"actor_age\": 26, \"director\": \"Aamir Khan\", \"director_age\": 59},\n",
    "        {\"movie\": \"My Name Is Khan\", \"actor\": \"Shah Rukh Khan\", \"actor_age\": 58, \"director\": \"Karan Johar\", \"director_age\": 51},\n",
    "        {\"movie\": \"Lagaan\", \"actor\": \"Aamir Khan\", \"actor_age\": 59, \"director\": \"Ashutosh Gowariker\", \"director_age\": 60}\n",
    "    ]\n",
    "\n",
    "    for entry in data:\n",
    "        tx.run(\"\"\"\n",
    "            MATCH (m:Movie {title: $movie})\n",
    "            MERGE (a:Actor {name: $actor}) SET a.age = $actor_age\n",
    "            MERGE (d:Director {name: $director}) SET d.age = $director_age\n",
    "            MERGE (a)-[:ACTED_IN]->(m)\n",
    "            MERGE (d)-[:DIRECTED]->(m)\n",
    "        \"\"\", **entry)\n",
    "\n",
    "with driver.session() as session:\n",
    "    session.execute_write(insert_actors_directors)\n",
    "\n",
    "print(\" Actors & Directors linked to movies successfully.\")"
   ]
  },
  {
   "cell_type": "markdown",
   "id": "f250adcc-4ec7-4508-bfa6-657ecbeddd01",
   "metadata": {},
   "source": [
    "###  Query: Fetch Movies with Actor & Director Info\n",
    "Matches all (Actor)-[:ACTED_IN]->(Movie)<-[:DIRECTED]-(Director) links."
   ]
  },
  {
   "cell_type": "code",
   "execution_count": 142,
   "id": "f459753c-72e8-4dd3-b65e-e95dc27bd54e",
   "metadata": {},
   "outputs": [
    {
     "name": "stdout",
     "output_type": "stream",
     "text": [
      "              Movie            Actor            Director\n",
      "0            Dangal       Aamir Khan       Nitesh Tiwari\n",
      "1               Don   Shah Rukh Khan       Farhan Akhtar\n",
      "2            Swades   Shah Rukh Khan  Ashutosh Gowariker\n",
      "3            Lagaan       Aamir Khan  Ashutosh Gowariker\n",
      "4  Taare Zameen Par  Darsheel Safary          Aamir Khan\n",
      "5   My Name Is Khan   Shah Rukh Khan         Karan Johar\n",
      "6           Dilwale   Shah Rukh Khan        Rohit Shetty\n",
      "7          3 Idiots       Aamir Khan     Rajkumar Hirani\n",
      "8                PK       Aamir Khan     Rajkumar Hirani\n",
      "9     Chak De India   Shah Rukh Khan         Shimit Amin\n"
     ]
    }
   ],
   "source": [
    "# This will be empty unless actor+director nodes/relations exist\n",
    "def fetch_movie_info(tx):\n",
    "    result = tx.run(\"\"\"\n",
    "        MATCH (a:Actor)-[:ACTED_IN]->(m:Movie)<-[:DIRECTED]-(d:Director)\n",
    "        RETURN DISTINCT m.title AS Movie, a.name AS Actor, d.name AS Director\n",
    "    \"\"\")\n",
    "    return result.data()\n",
    "\n",
    "with driver.session() as session:\n",
    "    movie_info = session.execute_read(fetch_movie_info)\n",
    "\n",
    "df_info = pd.DataFrame(movie_info)\n",
    "print(df_info)  # may be empty if no actors/directors created"
   ]
  },
  {
   "cell_type": "markdown",
   "id": "5e6307d5-343a-440c-96fc-9f9df929c631",
   "metadata": {},
   "source": [
    "### Query: Fetch Movies by Specific Actor\n",
    "Searches all movies connected to the given actor’s name.\n"
   ]
  },
  {
   "cell_type": "code",
   "execution_count": 145,
   "id": "a781fcd2-4081-49f6-805e-284d278ec746",
   "metadata": {},
   "outputs": [
    {
     "name": "stdout",
     "output_type": "stream",
     "text": [
      "             Movie  Year\n",
      "0          Dilwale  2015\n",
      "1    Chak De India  2007\n",
      "2              Don  2006\n",
      "3           Swades  2004\n",
      "4  My Name Is Khan  2010\n"
     ]
    }
   ],
   "source": [
    "#  Movies by Actor (this will also be empty unless actors are created)\n",
    "def movies_by_actor(tx, actor_name):\n",
    "    result = tx.run(\"\"\"\n",
    "        MATCH (a:Actor {name: $name})-[:ACTED_IN]->(m:Movie)\n",
    "        RETURN DISTINCT m.title AS Movie, m.year AS Year\n",
    "    \"\"\", name=actor_name)\n",
    "    return result.data()\n",
    "\n",
    "with driver.session() as session:\n",
    "    actor_movies = session.execute_read(movies_by_actor, \"Shah Rukh Khan\")\n",
    "\n",
    "df_actor = pd.DataFrame(actor_movies)\n",
    "print(df_actor)"
   ]
  },
  {
   "cell_type": "markdown",
   "id": "e13cd190-9dac-4037-ac8a-fb7de4185a49",
   "metadata": {},
   "source": [
    "## Step 5: Add Genres & Connect to Movies\n",
    "Linking each movie to a genre using BELONGS_TO relationship.\n"
   ]
  },
  {
   "cell_type": "code",
   "execution_count": 148,
   "id": "d3f10e1d-5f12-41d1-9e24-16215e988310",
   "metadata": {},
   "outputs": [
    {
     "name": "stdout",
     "output_type": "stream",
     "text": [
      " Genres added and linked to movies successfully.\n"
     ]
    }
   ],
   "source": [
    "def insert_genres(tx):\n",
    "    genre_map = {\n",
    "        \"Dilwale\": \"Action\",\n",
    "        \"3 Idiots\": \"Drama\",\n",
    "        \"Chak De India\": \"Sports\",\n",
    "        \"PK\": \"Comedy\",\n",
    "        \"Dangal\": \"Biopic\",\n",
    "        \"Don\": \"Action\",\n",
    "        \"Swades\": \"Drama\",\n",
    "        \"Taare Zameen Par\": \"Emotional\",\n",
    "        \"My Name Is Khan\": \"Drama\",\n",
    "        \"Lagaan\": \"Sports\"\n",
    "    }\n",
    "\n",
    "    for movie, genre in genre_map.items():\n",
    "        tx.run(\"\"\"\n",
    "            MERGE (g:Genre {name: $genre})\n",
    "            WITH g\n",
    "            MATCH (m:Movie {title: $movie})\n",
    "            MERGE (m)-[:BELONGS_TO]->(g)\n",
    "        \"\"\", movie=movie, genre=genre)\n",
    "\n",
    "with driver.session() as session:\n",
    "    session.execute_write(insert_genres)\n",
    "\n",
    "print(\" Genres added and linked to movies successfully.\")"
   ]
  },
  {
   "cell_type": "markdown",
   "id": "a59bff09-7450-46e4-8635-daa4a775014e",
   "metadata": {},
   "source": [
    "### Query: View All Movies with Their Genres\n",
    "Sorted by genre, for better understanding of categories."
   ]
  },
  {
   "cell_type": "code",
   "execution_count": 151,
   "id": "fcf39819-e8dc-42d5-8c56-f42dac542057",
   "metadata": {},
   "outputs": [
    {
     "name": "stdout",
     "output_type": "stream",
     "text": [
      "              Movie      Genre\n",
      "0           Dilwale     Action\n",
      "1               Don     Action\n",
      "2            Dangal     Biopic\n",
      "3                PK     Comedy\n",
      "4          3 Idiots      Drama\n",
      "5   My Name Is Khan      Drama\n",
      "6            Swades      Drama\n",
      "7  Taare Zameen Par  Emotional\n",
      "8     Chak De India     Sports\n",
      "9            Lagaan     Sports\n"
     ]
    }
   ],
   "source": [
    "def fetch_movies_with_genres(tx):\n",
    "    result = tx.run(\"\"\"\n",
    "        MATCH (m:Movie)-[:BELONGS_TO]->(g:Genre)\n",
    "        RETURN m.title AS Movie, g.name AS Genre\n",
    "        ORDER BY Genre, Movie\n",
    "    \"\"\")\n",
    "    return result.data()\n",
    "\n",
    "with driver.session() as session:\n",
    "    genre_results = session.execute_read(fetch_movies_with_genres)\n",
    "\n",
    "import pandas as pd\n",
    "df_genres = pd.DataFrame(genre_results)\n",
    "print(df_genres)"
   ]
  },
  {
   "cell_type": "markdown",
   "id": "13e28c57-00d6-4058-bbd6-367f6c28ae8f",
   "metadata": {},
   "source": [
    "## Step 6: Export All Query Results to Excel\n",
    "All results (friends, actors, genres) exported to a multi-sheet Excel file."
   ]
  },
  {
   "cell_type": "code",
   "execution_count": 154,
   "id": "8bc5d5cc-0d93-4677-a670-412ea4a96754",
   "metadata": {},
   "outputs": [
    {
     "name": "stdout",
     "output_type": "stream",
     "text": [
      " All data saved into final_graph_project.xlsx\n"
     ]
    }
   ],
   "source": [
    "with pd.ExcelWriter(\"final_graph_project.xlsx\") as writer:\n",
    "    df_person.to_excel(writer, sheet_name=\"Friends Network\", index=False)\n",
    "    df_info.to_excel(writer, sheet_name=\"Actor-Director\", index=False)\n",
    "    df_actor.to_excel(writer, sheet_name=\"Movies by Actor\", index=False)\n",
    "    df_genres.to_excel(writer, sheet_name=\"Movies by Genre\", index=False)\n",
    "\n",
    "print(\" All data saved into final_graph_project.xlsx\")"
   ]
  },
  {
   "cell_type": "code",
   "execution_count": null,
   "id": "67e5ba61-4e21-4138-a3e1-74004333c0c4",
   "metadata": {},
   "outputs": [],
   "source": []
  }
 ],
 "metadata": {
  "kernelspec": {
   "display_name": "Python [conda env:base] *",
   "language": "python",
   "name": "conda-base-py"
  },
  "language_info": {
   "codemirror_mode": {
    "name": "ipython",
    "version": 3
   },
   "file_extension": ".py",
   "mimetype": "text/x-python",
   "name": "python",
   "nbconvert_exporter": "python",
   "pygments_lexer": "ipython3",
   "version": "3.12.7"
  }
 },
 "nbformat": 4,
 "nbformat_minor": 5
}
